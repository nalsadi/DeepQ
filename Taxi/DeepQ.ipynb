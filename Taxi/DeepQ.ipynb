{
 "cells": [
  {
   "cell_type": "markdown",
   "metadata": {},
   "source": [
    "## Importing"
   ]
  },
  {
   "cell_type": "code",
   "execution_count": 1,
   "metadata": {},
   "outputs": [],
   "source": [
    "import numpy as np \n",
    "import gym \n",
    "import random\n"
   ]
  },
  {
   "cell_type": "code",
   "execution_count": 7,
   "metadata": {},
   "outputs": [
    {
     "name": "stderr",
     "output_type": "stream",
     "text": [
      "[2018-09-13 16:27:48,504] Making new env: Taxi-v2\n"
     ]
    }
   ],
   "source": [
    "game = gym.make(\"Taxi-v2\")\n",
    "#game.render()"
   ]
  },
  {
   "cell_type": "markdown",
   "metadata": {},
   "source": [
    "## Intialize Q-Table"
   ]
  },
  {
   "cell_type": "code",
   "execution_count": 8,
   "metadata": {},
   "outputs": [],
   "source": [
    "numActions = game.action_space.n\n",
    "numStates = game.observation_space.n  "
   ]
  },
  {
   "cell_type": "code",
   "execution_count": 9,
   "metadata": {},
   "outputs": [
    {
     "name": "stdout",
     "output_type": "stream",
     "text": [
      "500 x 6\n"
     ]
    }
   ],
   "source": [
    "print(numStates,\"x\", numActions)     ## #States x #Actions \n"
   ]
  },
  {
   "cell_type": "code",
   "execution_count": 10,
   "metadata": {},
   "outputs": [],
   "source": [
    "qtable = np.zeros((numStates,numActions))   ##Intialize Q_Table with zeros\n"
   ]
  },
  {
   "cell_type": "markdown",
   "metadata": {},
   "source": [
    "## Intialize Model Variables"
   ]
  },
  {
   "cell_type": "code",
   "execution_count": 11,
   "metadata": {},
   "outputs": [],
   "source": [
    "maxEpi = 5000\n",
    "testEpi = 100\n",
    "maxSteps = 99\n",
    "\n",
    "LR = 0.7\n",
    "gamma = 0.618\n",
    "\n",
    "Eps = 1.0\n",
    "minEps = 0.01\n",
    "maxEps = 1.0\n",
    "decayEps = 0.01"
   ]
  },
  {
   "cell_type": "markdown",
   "metadata": {},
   "source": [
    "## Q-Learn Algorithm"
   ]
  },
  {
   "cell_type": "code",
   "execution_count": 12,
   "metadata": {},
   "outputs": [],
   "source": [
    "for episode in range(maxEpi):\n",
    "    state = game.reset()\n",
    "    step = 0 \n",
    "    done = False \n",
    "    \n",
    "    for step in range(maxSteps):\n",
    "        curiosity = random.uniform(0,1)\n",
    "        \n",
    "        if curiosity > Eps: #State of Exploitation: Will not pass through this until system learns via exploration\n",
    "            action = np.argmax(qtable[state,:])\n",
    "            \n",
    "            \n",
    "        else: #This is a state of exploration; hence we will pick a random action\n",
    "            action = game.action_space.sample()\n",
    "        \n",
    "        newState, reward, done, info = game.step(action)\n",
    "        \n",
    "        qtable[state,action] = qtable[state,action] + LR*(reward + gamma*(np.max(qtable[newState,:])) - qtable[state,action])\n",
    "        \n",
    "        \n",
    "        state = newState\n",
    "        \n",
    "        if done == True:\n",
    "            break\n",
    "            \n",
    "        \n",
    "    Eps = minEps + (maxEps - minEps)*np.exp(-decayEps * episode)\n",
    "            \n",
    "            "
   ]
  },
  {
   "cell_type": "markdown",
   "metadata": {},
   "source": [
    "## Run Model "
   ]
  },
  {
   "cell_type": "code",
   "execution_count": 13,
   "metadata": {},
   "outputs": [
    {
     "name": "stdout",
     "output_type": "stream",
     "text": [
      "Score over time:  8.14\n"
     ]
    }
   ],
   "source": [
    "game.reset()\n",
    "rewards = []\n",
    "\n",
    "for episode in range(testEpi):\n",
    "    state = game.reset()\n",
    "    step = 0\n",
    "    done = False\n",
    "    totalRewards = 0 \n",
    "    \n",
    "    for step in range(maxSteps):\n",
    "        \n",
    "        action = np.argmax(qtable[state,:])\n",
    "        \n",
    "        newState, reward, done,info = game.step(action)\n",
    "        \n",
    "        totalRewards += reward\n",
    "        \n",
    "        if done == True:\n",
    "            rewards.append(totalRewards)\n",
    "            break\n",
    "        \n",
    "        state = newState\n",
    "\n",
    "\n",
    "print (\"Score over time: \" ,  sum(rewards)/testEpi)"
   ]
  }
 ],
 "metadata": {
  "kernelspec": {
   "display_name": "Python 3",
   "language": "python",
   "name": "python3"
  },
  "language_info": {
   "codemirror_mode": {
    "name": "ipython",
    "version": 3
   },
   "file_extension": ".py",
   "mimetype": "text/x-python",
   "name": "python",
   "nbconvert_exporter": "python",
   "pygments_lexer": "ipython3",
   "version": "3.6.6"
  }
 },
 "nbformat": 4,
 "nbformat_minor": 2
}
